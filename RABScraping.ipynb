{
  "nbformat": 4,
  "nbformat_minor": 0,
  "metadata": {
    "colab": {
      "name": "RABScraping.ipynb",
      "provenance": [],
      "collapsed_sections": [],
      "authorship_tag": "ABX9TyPbkh/PSJ2UBXBYsL1nMdz5",
      "include_colab_link": true
    },
    "kernelspec": {
      "name": "python3",
      "display_name": "Python 3"
    },
    "language_info": {
      "name": "python"
    }
  },
  "cells": [
    {
      "cell_type": "markdown",
      "metadata": {
        "id": "view-in-github",
        "colab_type": "text"
      },
      "source": [
        "<a href=\"https://colab.research.google.com/github/altinodantas/rabscraping/blob/main/RABScraping.ipynb\" target=\"_parent\"><img src=\"https://colab.research.google.com/assets/colab-badge.svg\" alt=\"Open In Colab\"/></a>"
      ]
    },
    {
      "cell_type": "markdown",
      "metadata": {
        "id": "evjTBYkTzOgo"
      },
      "source": [
        "**Import dos recursos necessários**"
      ]
    },
    {
      "cell_type": "code",
      "metadata": {
        "id": "DkTFcV9wxuWB"
      },
      "source": [
        "import requests\n",
        "from bs4 import BeautifulSoup\n",
        "import pandas as pd\n",
        "import os"
      ],
      "execution_count": 6,
      "outputs": []
    },
    {
      "cell_type": "markdown",
      "metadata": {
        "id": "Mbo-dUXUzY2F"
      },
      "source": [
        "**Classe para tratamento de exceção**\n",
        "\n",
        "Classe de erro personalizada para lidar com tipos de arquivo suportados para salvamento"
      ]
    },
    {
      "cell_type": "code",
      "metadata": {
        "id": "87iIEITbxNtC"
      },
      "source": [
        "class InvalidFileError(Exception):\n",
        "\n",
        "  def __init__(self, *args):\n",
        "    if args:\n",
        "      self.mensagem = args[0]\n",
        "    else:\n",
        "      self.mensagem = None\n",
        "\n",
        "  def __str__(self):\n",
        "    if self.mensagem:\n",
        "      return \"Tipo de arquivo não suportado :\\\n",
        "              tipo informado: {0}\\\n",
        "              informe .xlsx ou .csv\".format(self.mensagem)\n",
        "    else:\n",
        "      return \"Tipo de arquivo não suportado. Informe xlsx ou csv\""
      ],
      "execution_count": 2,
      "outputs": []
    },
    {
      "cell_type": "markdown",
      "metadata": {
        "id": "mCgKmQUXzw4U"
      },
      "source": [
        "**Classe principal**"
      ]
    },
    {
      "cell_type": "code",
      "metadata": {
        "id": "Mmsxf5eew-Fj"
      },
      "source": [
        "class RABScraping:\n",
        "\t\"\"\"\n",
        "    Class usada para realizar scraping na página do RAB a partir de uma lista de matrículas e salvar em arquivo csv ou excel\n",
        "    ...\n",
        "    Atributos\n",
        "    ----------\n",
        "    __lista_dados : list\n",
        "        Uma lista com dicionários no formato {'matricula':'XX-UUU', 'Proprietário': 'Altino Dantas'}\n",
        "\t__df : DataFrame\n",
        "\t\tDataFrame contendo a consolidação do dados de __lista_dados\n",
        "    Métodos\n",
        "    -------\n",
        "    obter_dados()\n",
        "        Retorna um DataFrame pandas com a lista de aeronaves encontradas\n",
        "\tsalvar_arquivo(saida=\"lista_aeronaves.csv\")\n",
        "        Salva um arquivo com a lista das aeronaves encontradas. O arquivo pode ser .xlsx ou .csv\n",
        "\t\n",
        "    \"\"\"\n",
        "\n",
        "\tdef __init__(self, matriculas, verbose=False):\n",
        "\n",
        "\t\tif not isinstance(matriculas, list) and not isinstance(matriculas, tuple):\n",
        "\t\t\traise TypeError(f\"O parâmetro matrícula deve ser uma lista\")\n",
        "\n",
        "\t\tself.__lista_dados = []\n",
        "        \n",
        "\t\tfor m in matriculas:\n",
        "\t\t\tm = m.strip()\n",
        "\n",
        "\t\t\tif verbose:\n",
        "\t\t\t\tprint(f\"Processando a matrícula: {m} | início\")\n",
        "\n",
        "\t\t\thtml = requests.get(f\"https://sistemas.anac.gov.br/aeronaves/cons_rab_resposta.asp?textMarca={m}\").content\n",
        "\t\t\tsoup = BeautifulSoup(html, 'html.parser')\n",
        "\n",
        "\t\t\ttabela = soup.find(\"table\", class_=\"table table-hover\")\n",
        "\t\t\tlinhas = tabela.find_all('tr')\n",
        "\t\t\tdados = {'Matricula' : m}\n",
        "\n",
        "\t\t\tfor ln in linhas:\n",
        "\t\t\t\ttexto = ln.text.strip()\n",
        "\t\t\t\ttexto = texto.split('\\n')\n",
        "\t\t\t\tcampo = texto[0].split(\":\")\n",
        "\t\t\t\tvalor = texto[-1].replace(\"\\t\",\"\")     \n",
        "\t\t\t\tdados[campo[0]] = valor\n",
        "\n",
        "\t\t\tif(dados['Modelo'] != 'Modelo:'):   \n",
        "\t\t\t\tself.__lista_dados.append(dados) \n",
        "\t\t\telse:\n",
        "\t\t\t\tif verbose:     \n",
        "\t\t\t\t\tprint(f\"--- Matrícula {m} não encontrada ---\")\n",
        "\n",
        "\t\t\tif verbose:\n",
        "\t\t\t\tprint(f\"Processando a matrícula: {m} | fim\")\n",
        "\n",
        "\t\tself.__df = pd.DataFrame(self.__lista_dados, columns=dados.keys())    \n",
        "\t\tself.__df.sort_values(by=['Matricula'], inplace=True)\n",
        "\t\tself.__df = self.__trata_dados(self.__df)\n",
        "\n",
        "\tdef obter_dados(self):\n",
        "\t\n",
        "\t\treturn self.__df\n",
        "\n",
        "\tdef __trata_dados(self, df):\n",
        "\n",
        "\t\taux_df = df\n",
        "\t\taux_df['Ano de Fabricação'] = aux_df['Ano de Fabricação'].astype('int32')\n",
        "\t\taux_df['Número da Matrícula'] = aux_df['Número da Matrícula'].astype('int32')\n",
        "\t\taux_df['Número Máximo de Passageiros'] = aux_df['Número Máximo de Passageiros'].astype('int32')\n",
        "\t\t\n",
        "\t\taux_df[['KG','unidade']] = aux_df['Peso Máximo de Decolagem'].str.split('-', expand=True)\n",
        "\t\taux_df['Peso Máximo de Decolagem'] = aux_df['KG'].astype('int32')\n",
        "\t\taux_df.drop(['KG','unidade'], axis=1, inplace=True)\n",
        "\t\taux_df.rename(columns={'Peso Máximo de Decolagem':'Peso Máximo de Decolagem (KG)'}, inplace=True)\n",
        "\n",
        "\t\treturn aux_df\n",
        "\n",
        "\tdef salvar_arquivo(self, saida=\"lista_aeronaves.csv\", dados = pd.DataFrame()):\n",
        "\n",
        "\t\tif dados.empty:\n",
        "\t\t\tdados = self.__df\n",
        "\n",
        "\t\ttipo_arquivo = saida.split('.')[1]\n",
        "\t\tif tipo_arquivo == 'csv':\n",
        "\t\t\tpd.DataFrame.to_csv(dados, saida, columns=dados.columns, index=False, encoding=\"utf-8\")\n",
        "\t\telif tipo_arquivo == 'xlsx':\n",
        "\t\t\tpd.DataFrame.to_excel(dados, saida, columns=dados.columns, index=False, encoding=\"utf-8\")\n",
        "\t\telse:\n",
        "\t\t\traise InvalidFileError(tipo_arquivo)"
      ],
      "execution_count": 3,
      "outputs": []
    },
    {
      "cell_type": "markdown",
      "metadata": {
        "id": "zTo6o7hGz9nZ"
      },
      "source": [
        "**Utilização**\n",
        "\n",
        "Criação de uma instância da classe RABScraping informando as matrículas a serem consultadas"
      ]
    },
    {
      "cell_type": "code",
      "metadata": {
        "colab": {
          "base_uri": "https://localhost:8080/"
        },
        "id": "ISafO-SHxV8Q",
        "outputId": "9f84232f-f780-4ffd-f93a-b7b597df0005"
      },
      "source": [
        "lista_matriculas = ['PR-GUM','PS-AEH', 'PR-PJN', 'XE', 'PR-TOL']\n",
        "\n",
        "aeronaves = RABScraping(matriculas=lista_matriculas, verbose=True)\n",
        "df = aeronaves.obter_dados()"
      ],
      "execution_count": 7,
      "outputs": [
        {
          "output_type": "stream",
          "text": [
            "Processando a matrícula: PR-GUM | início\n",
            "Processando a matrícula: PR-GUM | fim\n",
            "Processando a matrícula: PS-AEH | início\n",
            "Processando a matrícula: PS-AEH | fim\n",
            "Processando a matrícula: PR-PJN | início\n",
            "Processando a matrícula: PR-PJN | fim\n",
            "Processando a matrícula: XE | início\n",
            "--- Matrícula XE não encontrada ---\n",
            "Processando a matrícula: XE | fim\n",
            "Processando a matrícula: PR-TOL | início\n",
            "Processando a matrícula: PR-TOL | fim\n"
          ],
          "name": "stdout"
        }
      ]
    },
    {
      "cell_type": "code",
      "metadata": {
        "colab": {
          "base_uri": "https://localhost:8080/",
          "height": 678
        },
        "id": "v7Xtrs9U0mhY",
        "outputId": "d64e9e9f-50b8-4a40-c54c-65160bc1f10d"
      },
      "source": [
        "df.T"
      ],
      "execution_count": 9,
      "outputs": [
        {
          "output_type": "execute_result",
          "data": {
            "text/html": [
              "<div>\n",
              "<style scoped>\n",
              "    .dataframe tbody tr th:only-of-type {\n",
              "        vertical-align: middle;\n",
              "    }\n",
              "\n",
              "    .dataframe tbody tr th {\n",
              "        vertical-align: top;\n",
              "    }\n",
              "\n",
              "    .dataframe thead th {\n",
              "        text-align: right;\n",
              "    }\n",
              "</style>\n",
              "<table border=\"1\" class=\"dataframe\">\n",
              "  <thead>\n",
              "    <tr style=\"text-align: right;\">\n",
              "      <th></th>\n",
              "      <th>0</th>\n",
              "      <th>2</th>\n",
              "      <th>3</th>\n",
              "      <th>1</th>\n",
              "    </tr>\n",
              "  </thead>\n",
              "  <tbody>\n",
              "    <tr>\n",
              "      <th>Matricula</th>\n",
              "      <td>PR-GUM</td>\n",
              "      <td>PR-PJN</td>\n",
              "      <td>PR-TOL</td>\n",
              "      <td>PS-AEH</td>\n",
              "    </tr>\n",
              "    <tr>\n",
              "      <th>Proprietário</th>\n",
              "      <td>UMB BANK, NATIONAL ASSOCIATION</td>\n",
              "      <td>WILMINGTON TRUST SP SERVICES (DUBLIN) LIMITED</td>\n",
              "      <td>MARCELO SOUZA DUARTE</td>\n",
              "      <td>CRUZEIRO AIRCRAFT FUNDING LLC</td>\n",
              "    </tr>\n",
              "    <tr>\n",
              "      <th>CPF/CNPJ</th>\n",
              "      <td>07575651000159</td>\n",
              "      <td>09296295000160</td>\n",
              "      <td>00677645171</td>\n",
              "      <td>09296295000160</td>\n",
              "    </tr>\n",
              "    <tr>\n",
              "      <th>Operador</th>\n",
              "      <td>GOL LINHAS AÉREAS S.A</td>\n",
              "      <td>AZUL LINHAS AEREAS BRASILEIRAS S.A</td>\n",
              "      <td>MARCELO SOUZA DUARTE</td>\n",
              "      <td>AZUL LINHAS AEREAS BRASILEIRAS S.A.</td>\n",
              "    </tr>\n",
              "    <tr>\n",
              "      <th>Fabricante</th>\n",
              "      <td>BOEING COMPANY</td>\n",
              "      <td>EMBRAER</td>\n",
              "      <td>BEECH AIRCRAFT</td>\n",
              "      <td>YABORA INDUSTRIA AERONAUTICA S.A</td>\n",
              "    </tr>\n",
              "    <tr>\n",
              "      <th>Ano de Fabricação</th>\n",
              "      <td>2011</td>\n",
              "      <td>2019</td>\n",
              "      <td>1989</td>\n",
              "      <td>2020</td>\n",
              "    </tr>\n",
              "    <tr>\n",
              "      <th>Modelo</th>\n",
              "      <td>737-8EH</td>\n",
              "      <td>ERJ 190-400</td>\n",
              "      <td>58</td>\n",
              "      <td>ERJ 190-400</td>\n",
              "    </tr>\n",
              "    <tr>\n",
              "      <th>Número de Série</th>\n",
              "      <td>35846</td>\n",
              "      <td>19020018</td>\n",
              "      <td>TH-1554</td>\n",
              "      <td>19020035</td>\n",
              "    </tr>\n",
              "    <tr>\n",
              "      <th>Tipo ICAO</th>\n",
              "      <td>B738</td>\n",
              "      <td>E295</td>\n",
              "      <td>BE58</td>\n",
              "      <td>E295</td>\n",
              "    </tr>\n",
              "    <tr>\n",
              "      <th>Tipo de Habilitação para Pilotos</th>\n",
              "      <td>B739</td>\n",
              "      <td>E179</td>\n",
              "      <td>MLTE</td>\n",
              "      <td>E179</td>\n",
              "    </tr>\n",
              "    <tr>\n",
              "      <th>Classe da Aeronave</th>\n",
              "      <td>POUSO CONVECIONAL 2 MOTORES JATO/TURBOFAN</td>\n",
              "      <td>POUSO CONVECIONAL 2 MOTORES JATO/TURBOFAN</td>\n",
              "      <td>POUSO CONVECIONAL 2 MOTORES CONVENCIONAIS</td>\n",
              "      <td>POUSO CONVECIONAL 2 MOTORES JATO/TURBOFAN</td>\n",
              "    </tr>\n",
              "    <tr>\n",
              "      <th>Peso Máximo de Decolagem (KG)</th>\n",
              "      <td>79015</td>\n",
              "      <td>61500</td>\n",
              "      <td>2449</td>\n",
              "      <td>61500</td>\n",
              "    </tr>\n",
              "    <tr>\n",
              "      <th>Número Máximo de Passageiros</th>\n",
              "      <td>186</td>\n",
              "      <td>136</td>\n",
              "      <td>3</td>\n",
              "      <td>136</td>\n",
              "    </tr>\n",
              "    <tr>\n",
              "      <th>Tipo de voo autorizado</th>\n",
              "      <td>IFR Noturno</td>\n",
              "      <td>IFR Noturno</td>\n",
              "      <td>IFR Noturno</td>\n",
              "      <td>IFR Noturno</td>\n",
              "    </tr>\n",
              "    <tr>\n",
              "      <th>Categoria de Registro</th>\n",
              "      <td>PRIVADA SERV.TRANSP.AEREO PUBLICO REGULAR</td>\n",
              "      <td>PRIVADA SERV.TRANSP.AEREO PUBLICO REGULAR</td>\n",
              "      <td>PRIVADA SERVICO AEREO PRIVADOS</td>\n",
              "      <td>PRIVADA SERV.TRANSP.AEREO PUBLICO REGULAR</td>\n",
              "    </tr>\n",
              "    <tr>\n",
              "      <th>Número da Matrícula</th>\n",
              "      <td>20414</td>\n",
              "      <td>24042</td>\n",
              "      <td>20801</td>\n",
              "      <td>24435</td>\n",
              "    </tr>\n",
              "    <tr>\n",
              "      <th>Status da Operação</th>\n",
              "      <td>OPERAÇÃO NEGADA PARA TÁXI AÉREO</td>\n",
              "      <td>OPERAÇÃO NEGADA PARA TÁXI AÉREO</td>\n",
              "      <td>OPERAÇÃO NEGADA PARA TÁXI AÉREO</td>\n",
              "      <td>OPERAÇÃO NEGADA PARA TÁXI AÉREO</td>\n",
              "    </tr>\n",
              "  </tbody>\n",
              "</table>\n",
              "</div>"
            ],
            "text/plain": [
              "                                                                          0  ...                                          1\n",
              "Matricula                                                            PR-GUM  ...                                     PS-AEH\n",
              "Proprietário                                 UMB BANK, NATIONAL ASSOCIATION  ...              CRUZEIRO AIRCRAFT FUNDING LLC\n",
              "CPF/CNPJ                                                     07575651000159  ...                             09296295000160\n",
              "Operador                                              GOL LINHAS AÉREAS S.A  ...        AZUL LINHAS AEREAS BRASILEIRAS S.A.\n",
              "Fabricante                                                   BOEING COMPANY  ...           YABORA INDUSTRIA AERONAUTICA S.A\n",
              "Ano de Fabricação                                                      2011  ...                                       2020\n",
              "Modelo                                                              737-8EH  ...                                ERJ 190-400\n",
              "Número de Série                                                       35846  ...                                   19020035\n",
              "Tipo ICAO                                                              B738  ...                                       E295\n",
              "Tipo de Habilitação para Pilotos                                       B739  ...                                       E179\n",
              "Classe da Aeronave                POUSO CONVECIONAL 2 MOTORES JATO/TURBOFAN  ...  POUSO CONVECIONAL 2 MOTORES JATO/TURBOFAN\n",
              "Peso Máximo de Decolagem (KG)                                         79015  ...                                      61500\n",
              "Número Máximo de Passageiros                                            186  ...                                        136\n",
              "Tipo de voo autorizado                                          IFR Noturno  ...                                IFR Noturno\n",
              "Categoria de Registro             PRIVADA SERV.TRANSP.AEREO PUBLICO REGULAR  ...  PRIVADA SERV.TRANSP.AEREO PUBLICO REGULAR\n",
              "Número da Matrícula                                                   20414  ...                                      24435\n",
              "Status da Operação                          OPERAÇÃO NEGADA PARA TÁXI AÉREO  ...            OPERAÇÃO NEGADA PARA TÁXI AÉREO\n",
              "\n",
              "[17 rows x 4 columns]"
            ]
          },
          "metadata": {
            "tags": []
          },
          "execution_count": 9
        }
      ]
    }
  ]
}