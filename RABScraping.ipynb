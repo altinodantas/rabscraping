{
  "nbformat": 4,
  "nbformat_minor": 0,
  "metadata": {
    "colab": {
      "name": "RABScraping.ipynb",
      "provenance": [],
      "authorship_tag": "ABX9TyPdSuS/tIEw1YRia3QsElwV",
      "include_colab_link": true
    },
    "kernelspec": {
      "name": "python3",
      "display_name": "Python 3"
    },
    "language_info": {
      "name": "python"
    }
  },
  "cells": [
    {
      "cell_type": "markdown",
      "metadata": {
        "id": "view-in-github",
        "colab_type": "text"
      },
      "source": [
        "<a href=\"https://colab.research.google.com/github/altinodantas/rabscraping/blob/main/RABScraping.ipynb\" target=\"_parent\"><img src=\"https://colab.research.google.com/assets/colab-badge.svg\" alt=\"Open In Colab\"/></a>"
      ]
    },
    {
      "cell_type": "code",
      "metadata": {
        "id": "DkTFcV9wxuWB"
      },
      "source": [
        "import requests\n",
        "from bs4 import BeautifulSoup\n",
        "import pandas as pd\n",
        "import os"
      ],
      "execution_count": 6,
      "outputs": []
    },
    {
      "cell_type": "code",
      "metadata": {
        "id": "87iIEITbxNtC"
      },
      "source": [
        "class InvalidFileError(Exception):\n",
        "\n",
        "  def __init__(self, *args):\n",
        "    if args:\n",
        "      self.mensagem = args[0]\n",
        "    else:\n",
        "      self.mensagem = None\n",
        "\n",
        "  def __str__(self):\n",
        "    if self.mensagem:\n",
        "      return \"Tipo de arquivo não suportado :\\\n",
        "              tipo informado: {0}\\\n",
        "              informe .xlsx ou .csv\".format(self.mensagem)\n",
        "    else:\n",
        "      return \"Tipo de arquivo não suportado. Informe xlsx ou csv\""
      ],
      "execution_count": 2,
      "outputs": []
    },
    {
      "cell_type": "code",
      "metadata": {
        "id": "Mmsxf5eew-Fj"
      },
      "source": [
        "class RABScraping:\n",
        "\t\"\"\"\n",
        "    Class usada para realizar scraping na página do RAB a partir de uma lista de matrículas e salvar em arquivo csv ou excel\n",
        "    ...\n",
        "    Atributos\n",
        "    ----------\n",
        "    __lista_dados : list\n",
        "        Uma lista com dicionários no formato {'matricula':'XX-UUU', 'Proprietário': 'Altino Dantas'}\n",
        "\t__df : DataFrame\n",
        "\t\tDataFrame contendo a consolidação do dados de __lista_dados\n",
        "    Métodos\n",
        "    -------\n",
        "    obter_dados()\n",
        "        Retorna um DataFrame pandas com a lista de aeronaves encontradas\n",
        "\tsalvar_arquivo(saida=\"lista_aeronaves.csv\")\n",
        "        Salva um arquivo com a lista das aeronaves encontradas. O arquivo pode ser .xlsx ou .csv\n",
        "\t\n",
        "    \"\"\"\n",
        "\n",
        "\tdef __init__(self, matriculas, verbose=False):\n",
        "\n",
        "\t\tif not isinstance(matriculas, list) and not isinstance(matriculas, tuple):\n",
        "\t\t\traise TypeError(f\"O parâmetro matrícula deve ser uma lista\")\n",
        "\n",
        "\t\tself.__lista_dados = []\n",
        "        \n",
        "\t\tfor m in matriculas:\n",
        "\t\t\tm = m.strip()\n",
        "\n",
        "\t\t\tif verbose:\n",
        "\t\t\t\tprint(f\"Processando a matrícula: {m} | início\")\n",
        "\n",
        "\t\t\thtml = requests.get(f\"https://sistemas.anac.gov.br/aeronaves/cons_rab_resposta.asp?textMarca={m}\").content\n",
        "\t\t\tsoup = BeautifulSoup(html, 'html.parser')\n",
        "\n",
        "\t\t\ttabela = soup.find(\"table\", class_=\"table table-hover\")\n",
        "\t\t\tlinhas = tabela.find_all('tr')\n",
        "\t\t\tdados = {'Matricula' : m}\n",
        "\n",
        "\t\t\tfor ln in linhas:\n",
        "\t\t\t\ttexto = ln.text.strip()\n",
        "\t\t\t\ttexto = texto.split('\\n')\n",
        "\t\t\t\tcampo = texto[0].split(\":\")\n",
        "\t\t\t\tvalor = texto[-1].replace(\"\\t\",\"\")     \n",
        "\t\t\t\tdados[campo[0]] = valor\n",
        "\n",
        "\t\t\tif(dados['Modelo'] != 'Modelo:'):   \n",
        "\t\t\t\tself.__lista_dados.append(dados) \n",
        "\t\t\telse:\n",
        "\t\t\t\tif verbose:     \n",
        "\t\t\t\t\tprint(f\"--- Matrícula {m} não encontrada ---\")\n",
        "\n",
        "\t\t\tif verbose:\n",
        "\t\t\t\tprint(f\"Processando a matrícula: {m} | fim\")\n",
        "\n",
        "\t\tself.__df = pd.DataFrame(self.__lista_dados, columns=dados.keys())    \n",
        "\t\tself.__df.sort_values(by=['Matricula'], inplace=True)\n",
        "\t\tself.__df = self.__trata_dados(self.__df)\n",
        "\n",
        "\tdef obter_dados(self):\n",
        "\t\n",
        "\t\treturn self.__df\n",
        "\n",
        "\tdef __trata_dados(self, df):\n",
        "\n",
        "\t\taux_df = df\n",
        "\t\taux_df['Ano de Fabricação'] = aux_df['Ano de Fabricação'].astype('int32')\n",
        "\t\taux_df['Número da Matrícula'] = aux_df['Número da Matrícula'].astype('int32')\n",
        "\t\taux_df['Número Máximo de Passageiros'] = aux_df['Número Máximo de Passageiros'].astype('int32')\n",
        "\t\t\n",
        "\t\taux_df[['KG','unidade']] = aux_df['Peso Máximo de Decolagem'].str.split('-', expand=True)\n",
        "\t\taux_df['Peso Máximo de Decolagem'] = aux_df['KG'].astype('int32')\n",
        "\t\taux_df.drop(['KG','unidade'], axis=1, inplace=True)\n",
        "\t\taux_df.rename(columns={'Peso Máximo de Decolagem':'Peso Máximo de Decolagem (KG)'}, inplace=True)\n",
        "\n",
        "\t\treturn aux_df\n",
        "\n",
        "\tdef salvar_arquivo(self, saida=\"lista_aeronaves.csv\", dados = pd.DataFrame()):\n",
        "\n",
        "\t\tif dados.empty:\n",
        "\t\t\tdados = self.__df\n",
        "\n",
        "\t\ttipo_arquivo = saida.split('.')[1]\n",
        "\t\tif tipo_arquivo == 'csv':\n",
        "\t\t\tpd.DataFrame.to_csv(dados, saida, columns=dados.columns, index=False, encoding=\"utf-8\")\n",
        "\t\telif tipo_arquivo == 'xlsx':\n",
        "\t\t\tpd.DataFrame.to_excel(dados, saida, columns=dados.columns, index=False, encoding=\"utf-8\")\n",
        "\t\telse:\n",
        "\t\t\traise InvalidFileError(tipo_arquivo)"
      ],
      "execution_count": 3,
      "outputs": []
    },
    {
      "cell_type": "code",
      "metadata": {
        "colab": {
          "base_uri": "https://localhost:8080/"
        },
        "id": "ISafO-SHxV8Q",
        "outputId": "d0754654-0f7a-4f83-a937-dabe0fee6aed"
      },
      "source": [
        "lista_matriculas = ['PR-GUM','PS-AEH', 'PR-PJN', 'XE', 'PR-TOL']\n",
        "\n",
        "lista = RABScraping(matriculas=lista_matriculas, verbose=True)\n",
        "lista.obter_dados()\n",
        "lista.salvar_arquivo()"
      ],
      "execution_count": 5,
      "outputs": [
        {
          "output_type": "stream",
          "text": [
            "Processando a matrícula: PR-GUM | início\n",
            "Processando a matrícula: PR-GUM | fim\n",
            "Processando a matrícula: PS-AEH | início\n",
            "Processando a matrícula: PS-AEH | fim\n",
            "Processando a matrícula: PR-PJN | início\n",
            "Processando a matrícula: PR-PJN | fim\n",
            "Processando a matrícula: XE | início\n",
            "--- Matrícula XE não encontrada ---\n",
            "Processando a matrícula: XE | fim\n",
            "Processando a matrícula: PR-TOL | início\n",
            "Processando a matrícula: PR-TOL | fim\n"
          ],
          "name": "stdout"
        }
      ]
    }
  ]
}